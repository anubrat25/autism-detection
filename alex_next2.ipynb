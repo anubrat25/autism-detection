{
  "cells": [
    {
      "cell_type": "code",
      "execution_count": 2,
      "metadata": {
        "colab": {
          "base_uri": "https://localhost:8080/"
        },
        "id": "Ttthy6NxB6vQ",
        "outputId": "4d28da40-b4b3-4522-ddd0-e8dbb5e781b8"
      },
      "outputs": [
        {
          "output_type": "stream",
          "name": "stdout",
          "text": [
            "sample_data\n"
          ]
        }
      ],
      "source": [
        "!ls\n"
      ]
    },
    {
      "cell_type": "code",
      "source": [
        "!pip install nvcc4jupyter"
      ],
      "metadata": {
        "colab": {
          "base_uri": "https://localhost:8080/"
        },
        "id": "gU0T8PNsbimY",
        "outputId": "c339ff5b-14a5-4b46-c8e0-accd45db9ad7"
      },
      "execution_count": 3,
      "outputs": [
        {
          "output_type": "stream",
          "name": "stdout",
          "text": [
            "Requirement already satisfied: nvcc4jupyter in /usr/local/lib/python3.10/dist-packages (1.2.1)\n"
          ]
        }
      ]
    },
    {
      "cell_type": "code",
      "execution_count": 4,
      "metadata": {
        "colab": {
          "base_uri": "https://localhost:8080/"
        },
        "id": "z3gjpPbTCFrX",
        "outputId": "88a084c7-92f5-492a-e670-aef60579bf6c"
      },
      "outputs": [
        {
          "output_type": "stream",
          "name": "stdout",
          "text": [
            "Mounted at /content/drive\n"
          ]
        }
      ],
      "source": [
        "from google.colab import drive\n",
        "drive.mount('/content/drive')"
      ]
    },
    {
      "cell_type": "code",
      "execution_count": 5,
      "metadata": {
        "id": "dtgElp4SA-gC"
      },
      "outputs": [],
      "source": [
        "import keras\n",
        "from keras.datasets import mnist\n",
        "from keras.layers import Conv2D, MaxPooling2D\n",
        "from keras.layers import Dense, Flatten\n",
        "from keras.models import Sequential"
      ]
    },
    {
      "cell_type": "code",
      "execution_count": 7,
      "metadata": {
        "colab": {
          "base_uri": "https://localhost:8080/",
          "height": 484
        },
        "id": "Xc_B_ZG4Lx5A",
        "outputId": "4defd080-c6bf-4b4b-bfaf-d787f6d4328a"
      },
      "outputs": [
        {
          "output_type": "stream",
          "name": "stdout",
          "text": [
            "Failed to read image: /content/drive/MyDrive/dataset/Autism/dataset\n"
          ]
        },
        {
          "output_type": "execute_result",
          "data": {
            "text/plain": [
              "<Axes: xlabel='count'>"
            ]
          },
          "metadata": {},
          "execution_count": 7
        },
        {
          "output_type": "display_data",
          "data": {
            "text/plain": [
              "<Figure size 640x480 with 1 Axes>"
            ],
            "image/png": "[encoded data removed]"
          },
          "metadata": {}
        }
      ],
      "source": [
        "import cv2\n",
        "import os\n",
        "import numpy as np\n",
        "import seaborn as sns\n",
        "\n",
        "data_dir = r\"/content/drive/MyDrive/dataset\"\n",
        "labels = ['Normal', 'Autism']\n",
        "img_size = 256\n",
        "\n",
        "def get_data(data_dir):\n",
        "    data = []\n",
        "    for label in labels:\n",
        "        path = os.path.join(data_dir, label)\n",
        "        class_num = labels.index(label)\n",
        "        for img in os.listdir(path):\n",
        "            try:\n",
        "                img_path = os.path.join(path, img)\n",
        "                img_arr = cv2.imread(img_path)\n",
        "                if img_arr is not None:\n",
        "                    img_arr = img_arr[...,::-1] # convert BGR to RGB format\n",
        "                    resized_arr = cv2.resize(img_arr, (img_size, img_size)) # Reshaping images to preferred size\n",
        "                    data.append([resized_arr, class_num])\n",
        "                else:\n",
        "                    print(f\"Failed to read image: {img_path}\")\n",
        "            except Exception as e:\n",
        "                print(f\"Error processing image {img_path}: {e}\")\n",
        "    return data\n",
        "\n",
        "# Load data from the dataset directory\n",
        "data = get_data(data_dir)\n",
        "\n",
        "# Prepare labels for visualization\n",
        "labels_list = []\n",
        "for i in data:\n",
        "    if i[1] == 0:\n",
        "        labels_list.append(\"Normal\")\n",
        "    elif i[1] == 1:\n",
        "        labels_list.append(\"Nutism\")\n",
        "\n",
        "# Visualize the distribution of labels\n",
        "sns.set_style('darkgrid')\n",
        "sns.countplot(labels_list)\n"
      ]
    },
    {
      "cell_type": "code",
      "execution_count": 8,
      "metadata": {
        "colab": {
          "base_uri": "https://localhost:8080/"
        },
        "id": "5j7vkpImVCIs",
        "outputId": "918638b8-330b-40e5-d017-6edc4908acea"
      },
      "outputs": [
        {
          "output_type": "stream",
          "name": "stdout",
          "text": [
            "['Normal', 'Normal', 'Normal', 'Normal', 'Normal', 'Normal', 'Normal', 'Normal', 'Normal', 'Normal', 'Normal', 'Normal', 'Normal', 'Normal', 'Normal', 'Normal', 'Normal', 'Normal', 'Normal', 'Normal', 'Normal', 'Normal', 'Normal', 'Normal', 'Normal', 'Normal', 'Normal', 'Normal', 'Normal', 'Normal', 'Normal', 'Normal', 'Normal', 'Normal', 'Normal', 'Normal', 'Normal', 'Normal', 'Normal', 'Normal', 'Normal', 'Normal', 'Normal', 'Normal', 'Normal', 'Normal', 'Normal', 'Normal', 'Normal', 'Normal', 'Normal', 'Normal', 'Normal', 'Normal', 'Normal', 'Normal', 'Normal', 'Normal', 'Normal', 'Normal', 'Normal', 'Normal', 'Normal', 'Normal', 'Normal', 'Normal', 'Normal', 'Normal', 'Normal', 'Normal', 'Normal', 'Normal', 'Normal', 'Normal', 'Normal', 'Normal', 'Normal', 'Normal', 'Normal', 'Normal', 'Normal', 'Normal', 'Normal', 'Normal', 'Normal', 'Normal', 'Normal', 'Normal', 'Normal', 'Normal', 'Normal', 'Normal', 'Normal', 'Normal', 'Normal', 'Normal', 'Normal', 'Normal', 'Normal', 'Normal', 'Normal', 'Normal', 'Normal', 'Normal', 'Normal', 'Normal', 'Normal', 'Normal', 'Normal', 'Normal', 'Normal', 'Normal', 'Normal', 'Normal', 'Normal', 'Normal', 'Normal', 'Normal', 'Normal', 'Normal', 'Normal', 'Normal', 'Normal', 'Normal', 'Normal', 'Normal', 'Normal', 'Normal', 'Normal', 'Normal', 'Normal', 'Normal', 'Normal', 'Normal', 'Normal', 'Normal', 'Normal', 'Normal', 'Normal', 'Normal', 'Normal', 'Normal', 'Normal', 'Normal', 'Normal', 'Normal', 'Normal', 'Normal', 'Normal', 'Normal', 'Normal', 'Normal', 'Normal', 'Normal', 'Normal', 'Normal', 'Normal', 'Normal', 'Normal', 'Normal', 'Normal', 'Normal', 'Normal', 'Normal', 'Normal', 'Normal', 'Normal', 'Normal', 'Normal', 'Normal', 'Normal', 'Normal', 'Normal', 'Normal', 'Normal', 'Normal', 'Normal', 'Normal', 'Normal', 'Normal', 'Normal', 'Normal', 'Normal', 'Normal', 'Normal', 'Normal', 'Normal', 'Normal', 'Normal', 'Normal', 'Normal', 'Normal', 'Normal', 'Normal', 'Normal', 'Normal', 'Normal', 'Normal', 'Normal', 'Normal', 'Normal', 'Normal', 'Normal', 'Normal', 'Normal', 'Normal', 'Nutism', 'Nutism', 'Nutism', 'Nutism', 'Nutism', 'Nutism', 'Nutism', 'Nutism', 'Nutism', 'Nutism', 'Nutism', 'Nutism', 'Nutism', 'Nutism', 'Nutism', 'Nutism', 'Nutism', 'Nutism', 'Nutism', 'Nutism', 'Nutism', 'Nutism', 'Nutism', 'Nutism', 'Nutism', 'Nutism', 'Nutism', 'Nutism', 'Nutism', 'Nutism', 'Nutism', 'Nutism', 'Nutism', 'Nutism', 'Nutism', 'Nutism', 'Nutism', 'Nutism', 'Nutism', 'Nutism', 'Nutism', 'Nutism', 'Nutism', 'Nutism', 'Nutism', 'Nutism', 'Nutism', 'Nutism', 'Nutism', 'Nutism', 'Nutism', 'Nutism', 'Nutism', 'Nutism', 'Nutism', 'Nutism', 'Nutism', 'Nutism', 'Nutism', 'Nutism', 'Nutism', 'Nutism', 'Nutism', 'Nutism', 'Nutism', 'Nutism', 'Nutism', 'Nutism', 'Nutism', 'Nutism', 'Nutism', 'Nutism', 'Nutism', 'Nutism', 'Nutism', 'Nutism', 'Nutism', 'Nutism', 'Nutism', 'Nutism', 'Nutism', 'Nutism', 'Nutism', 'Nutism', 'Nutism', 'Nutism', 'Nutism', 'Nutism', 'Nutism', 'Nutism', 'Nutism', 'Nutism', 'Nutism', 'Nutism', 'Nutism', 'Nutism', 'Nutism', 'Nutism', 'Nutism', 'Nutism', 'Nutism', 'Nutism', 'Nutism', 'Nutism', 'Nutism', 'Nutism', 'Nutism', 'Nutism', 'Nutism', 'Nutism', 'Nutism', 'Nutism', 'Nutism', 'Nutism', 'Nutism', 'Nutism', 'Nutism', 'Nutism', 'Nutism', 'Nutism', 'Nutism', 'Nutism', 'Nutism', 'Nutism', 'Nutism', 'Nutism', 'Nutism', 'Nutism', 'Nutism', 'Nutism', 'Nutism', 'Nutism', 'Nutism', 'Nutism', 'Nutism', 'Nutism', 'Nutism', 'Nutism', 'Nutism', 'Nutism', 'Nutism', 'Nutism', 'Nutism', 'Nutism', 'Nutism', 'Nutism', 'Nutism', 'Nutism', 'Nutism', 'Nutism', 'Nutism', 'Nutism', 'Nutism', 'Nutism', 'Nutism', 'Nutism', 'Nutism', 'Nutism', 'Nutism', 'Nutism', 'Nutism', 'Nutism', 'Nutism', 'Nutism', 'Nutism', 'Nutism', 'Nutism', 'Nutism', 'Nutism', 'Nutism', 'Nutism', 'Nutism', 'Nutism', 'Nutism', 'Nutism', 'Nutism', 'Nutism', 'Nutism', 'Nutism', 'Nutism', 'Nutism', 'Nutism', 'Nutism', 'Nutism', 'Nutism', 'Nutism', 'Nutism', 'Nutism', 'Nutism', 'Nutism', 'Nutism', 'Nutism', 'Nutism', 'Nutism', 'Nutism', 'Nutism', 'Nutism', 'Nutism', 'Nutism', 'Nutism', 'Nutism', 'Nutism', 'Nutism', 'Nutism', 'Nutism', 'Nutism', 'Nutism', 'Nutism', 'Nutism', 'Nutism', 'Nutism', 'Nutism', 'Nutism', 'Nutism', 'Nutism', 'Nutism', 'Nutism', 'Nutism', 'Nutism', 'Nutism', 'Nutism', 'Nutism', 'Nutism', 'Nutism', 'Nutism', 'Nutism', 'Nutism']\n"
          ]
        }
      ],
      "source": [
        "print(labels_list)"
      ]
    },
    {
      "cell_type": "code",
      "execution_count": 9,
      "metadata": {
        "id": "SpSB2FGdA-gN"
      },
      "outputs": [],
      "source": [
        "from sklearn.model_selection import train_test_split\n",
        "from tensorflow.keras.utils import to_categorical\n",
        "\n",
        "images, labels_list = zip(*data)\n",
        "\n",
        "# Convert to numpy arrays\n",
        "images = np.array(images)\n",
        "# Ensure labels are one-hot encoded\n",
        "labels_list = to_categorical(labels_list, num_classes=2)\n",
        "\n",
        "# Split the data into training and validation sets\n",
        "X_train, X_val, y_train, y_val = train_test_split(images, labels_list, test_size=0.2, random_state=42)"
      ]
    },
    {
      "cell_type": "code",
      "execution_count": 10,
      "metadata": {
        "colab": {
          "base_uri": "https://localhost:8080/"
        },
        "id": "evr2CtmkUkgA",
        "outputId": "8975ec76-b95d-4d18-85e2-054b94562681"
      },
      "outputs": [
        {
          "output_type": "stream",
          "name": "stdout",
          "text": [
            "[[1. 0.]\n",
            " [0. 1.]\n",
            " [1. 0.]\n",
            " [1. 0.]\n",
            " [0. 1.]\n",
            " [0. 1.]\n",
            " [0. 1.]\n",
            " [0. 1.]\n",
            " [0. 1.]\n",
            " [0. 1.]\n",
            " [1. 0.]\n",
            " [1. 0.]\n",
            " [1. 0.]\n",
            " [0. 1.]\n",
            " [0. 1.]\n",
            " [0. 1.]\n",
            " [0. 1.]\n",
            " [1. 0.]\n",
            " [0. 1.]\n",
            " [1. 0.]\n",
            " [0. 1.]\n",
            " [1. 0.]\n",
            " [1. 0.]\n",
            " [1. 0.]\n",
            " [1. 0.]\n",
            " [0. 1.]\n",
            " [1. 0.]\n",
            " [1. 0.]\n",
            " [1. 0.]\n",
            " [0. 1.]\n",
            " [1. 0.]\n",
            " [1. 0.]\n",
            " [0. 1.]\n",
            " [0. 1.]\n",
            " [0. 1.]\n",
            " [1. 0.]\n",
            " [1. 0.]\n",
            " [1. 0.]\n",
            " [0. 1.]\n",
            " [1. 0.]\n",
            " [1. 0.]\n",
            " [0. 1.]\n",
            " [0. 1.]\n",
            " [1. 0.]\n",
            " [1. 0.]\n",
            " [0. 1.]\n",
            " [0. 1.]\n",
            " [0. 1.]\n",
            " [0. 1.]\n",
            " [0. 1.]\n",
            " [0. 1.]\n",
            " [0. 1.]\n",
            " [0. 1.]\n",
            " [0. 1.]\n",
            " [0. 1.]\n",
            " [1. 0.]\n",
            " [1. 0.]\n",
            " [1. 0.]\n",
            " [1. 0.]\n",
            " [1. 0.]\n",
            " [0. 1.]\n",
            " [1. 0.]\n",
            " [1. 0.]\n",
            " [0. 1.]\n",
            " [0. 1.]\n",
            " [1. 0.]\n",
            " [0. 1.]\n",
            " [1. 0.]\n",
            " [1. 0.]\n",
            " [0. 1.]\n",
            " [0. 1.]\n",
            " [0. 1.]\n",
            " [0. 1.]\n",
            " [0. 1.]\n",
            " [1. 0.]\n",
            " [1. 0.]\n",
            " [0. 1.]\n",
            " [0. 1.]\n",
            " [1. 0.]\n",
            " [1. 0.]\n",
            " [0. 1.]\n",
            " [0. 1.]\n",
            " [0. 1.]\n",
            " [0. 1.]\n",
            " [1. 0.]\n",
            " [1. 0.]\n",
            " [1. 0.]\n",
            " [0. 1.]\n",
            " [1. 0.]\n",
            " [0. 1.]\n",
            " [0. 1.]\n",
            " [1. 0.]\n",
            " [1. 0.]\n",
            " [1. 0.]\n",
            " [1. 0.]\n",
            " [0. 1.]\n",
            " [1. 0.]\n",
            " [1. 0.]\n",
            " [0. 1.]\n",
            " [0. 1.]\n",
            " [1. 0.]\n",
            " [0. 1.]\n",
            " [0. 1.]\n",
            " [0. 1.]\n",
            " [0. 1.]\n",
            " [1. 0.]\n",
            " [1. 0.]\n",
            " [0. 1.]\n",
            " [1. 0.]\n",
            " [0. 1.]\n",
            " [1. 0.]\n",
            " [1. 0.]\n",
            " [1. 0.]\n",
            " [1. 0.]\n",
            " [0. 1.]\n",
            " [1. 0.]\n",
            " [0. 1.]\n",
            " [1. 0.]\n",
            " [1. 0.]\n",
            " [0. 1.]\n",
            " [0. 1.]\n",
            " [1. 0.]\n",
            " [0. 1.]\n",
            " [1. 0.]\n",
            " [1. 0.]\n",
            " [1. 0.]\n",
            " [1. 0.]\n",
            " [1. 0.]\n",
            " [0. 1.]\n",
            " [1. 0.]\n",
            " [1. 0.]\n",
            " [1. 0.]\n",
            " [0. 1.]\n",
            " [0. 1.]\n",
            " [0. 1.]\n",
            " [0. 1.]\n",
            " [0. 1.]\n",
            " [0. 1.]\n",
            " [0. 1.]\n",
            " [1. 0.]\n",
            " [1. 0.]\n",
            " [0. 1.]\n",
            " [0. 1.]\n",
            " [0. 1.]\n",
            " [0. 1.]\n",
            " [1. 0.]\n",
            " [0. 1.]\n",
            " [0. 1.]\n",
            " [0. 1.]\n",
            " [0. 1.]\n",
            " [0. 1.]\n",
            " [0. 1.]\n",
            " [0. 1.]\n",
            " [1. 0.]\n",
            " [0. 1.]\n",
            " [0. 1.]\n",
            " [0. 1.]\n",
            " [0. 1.]\n",
            " [1. 0.]\n",
            " [1. 0.]\n",
            " [1. 0.]\n",
            " [0. 1.]\n",
            " [1. 0.]\n",
            " [0. 1.]\n",
            " [0. 1.]\n",
            " [1. 0.]\n",
            " [1. 0.]\n",
            " [0. 1.]\n",
            " [0. 1.]\n",
            " [0. 1.]\n",
            " [0. 1.]\n",
            " [0. 1.]\n",
            " [0. 1.]\n",
            " [0. 1.]\n",
            " [0. 1.]\n",
            " [1. 0.]\n",
            " [1. 0.]\n",
            " [1. 0.]\n",
            " [0. 1.]\n",
            " [0. 1.]\n",
            " [1. 0.]\n",
            " [1. 0.]\n",
            " [0. 1.]\n",
            " [0. 1.]\n",
            " [0. 1.]\n",
            " [1. 0.]\n",
            " [0. 1.]\n",
            " [1. 0.]\n",
            " [0. 1.]\n",
            " [1. 0.]\n",
            " [0. 1.]\n",
            " [1. 0.]\n",
            " [0. 1.]\n",
            " [1. 0.]\n",
            " [1. 0.]\n",
            " [0. 1.]\n",
            " [1. 0.]\n",
            " [1. 0.]\n",
            " [1. 0.]\n",
            " [1. 0.]\n",
            " [1. 0.]\n",
            " [1. 0.]\n",
            " [1. 0.]\n",
            " [0. 1.]\n",
            " [0. 1.]\n",
            " [0. 1.]\n",
            " [1. 0.]\n",
            " [1. 0.]\n",
            " [0. 1.]\n",
            " [0. 1.]\n",
            " [0. 1.]\n",
            " [1. 0.]\n",
            " [1. 0.]\n",
            " [0. 1.]\n",
            " [0. 1.]\n",
            " [0. 1.]\n",
            " [0. 1.]\n",
            " [0. 1.]\n",
            " [1. 0.]\n",
            " [0. 1.]\n",
            " [0. 1.]\n",
            " [1. 0.]\n",
            " [0. 1.]\n",
            " [0. 1.]\n",
            " [0. 1.]\n",
            " [1. 0.]\n",
            " [1. 0.]\n",
            " [0. 1.]\n",
            " [0. 1.]\n",
            " [1. 0.]\n",
            " [1. 0.]\n",
            " [1. 0.]\n",
            " [0. 1.]\n",
            " [1. 0.]\n",
            " [0. 1.]\n",
            " [1. 0.]\n",
            " [0. 1.]\n",
            " [0. 1.]\n",
            " [0. 1.]\n",
            " [0. 1.]\n",
            " [1. 0.]\n",
            " [0. 1.]\n",
            " [1. 0.]\n",
            " [1. 0.]\n",
            " [1. 0.]\n",
            " [1. 0.]\n",
            " [1. 0.]\n",
            " [0. 1.]\n",
            " [1. 0.]\n",
            " [0. 1.]\n",
            " [1. 0.]\n",
            " [1. 0.]\n",
            " [1. 0.]\n",
            " [0. 1.]\n",
            " [0. 1.]\n",
            " [0. 1.]\n",
            " [0. 1.]\n",
            " [0. 1.]\n",
            " [0. 1.]\n",
            " [0. 1.]\n",
            " [0. 1.]\n",
            " [0. 1.]\n",
            " [0. 1.]\n",
            " [0. 1.]\n",
            " [0. 1.]\n",
            " [0. 1.]\n",
            " [0. 1.]\n",
            " [0. 1.]\n",
            " [0. 1.]\n",
            " [0. 1.]\n",
            " [1. 0.]\n",
            " [1. 0.]\n",
            " [1. 0.]\n",
            " [0. 1.]\n",
            " [1. 0.]\n",
            " [0. 1.]\n",
            " [0. 1.]\n",
            " [1. 0.]\n",
            " [1. 0.]\n",
            " [1. 0.]\n",
            " [0. 1.]\n",
            " [1. 0.]\n",
            " [1. 0.]\n",
            " [1. 0.]\n",
            " [1. 0.]\n",
            " [0. 1.]\n",
            " [0. 1.]\n",
            " [1. 0.]\n",
            " [0. 1.]\n",
            " [1. 0.]\n",
            " [0. 1.]\n",
            " [0. 1.]\n",
            " [0. 1.]\n",
            " [1. 0.]\n",
            " [0. 1.]\n",
            " [1. 0.]\n",
            " [0. 1.]\n",
            " [1. 0.]\n",
            " [0. 1.]\n",
            " [0. 1.]\n",
            " [1. 0.]\n",
            " [0. 1.]\n",
            " [0. 1.]\n",
            " [0. 1.]\n",
            " [0. 1.]\n",
            " [1. 0.]\n",
            " [0. 1.]\n",
            " [1. 0.]\n",
            " [1. 0.]\n",
            " [1. 0.]\n",
            " [0. 1.]\n",
            " [1. 0.]\n",
            " [1. 0.]\n",
            " [1. 0.]\n",
            " [1. 0.]\n",
            " [0. 1.]\n",
            " [0. 1.]\n",
            " [0. 1.]\n",
            " [1. 0.]\n",
            " [0. 1.]\n",
            " [1. 0.]\n",
            " [0. 1.]\n",
            " [1. 0.]\n",
            " [0. 1.]\n",
            " [0. 1.]\n",
            " [0. 1.]\n",
            " [0. 1.]\n",
            " [0. 1.]\n",
            " [1. 0.]\n",
            " [1. 0.]\n",
            " [1. 0.]\n",
            " [0. 1.]\n",
            " [1. 0.]\n",
            " [0. 1.]\n",
            " [1. 0.]\n",
            " [0. 1.]\n",
            " [0. 1.]\n",
            " [1. 0.]\n",
            " [0. 1.]\n",
            " [1. 0.]\n",
            " [1. 0.]\n",
            " [1. 0.]\n",
            " [1. 0.]\n",
            " [0. 1.]\n",
            " [0. 1.]\n",
            " [1. 0.]]\n"
          ]
        }
      ],
      "source": [
        "print(y_train)"
      ]
    },
    {
      "cell_type": "code",
      "execution_count": 11,
      "metadata": {
        "id": "fF6TQXMuA-gR"
      },
      "outputs": [],
      "source": [
        "model=keras.models.Sequential([\n",
        "    keras.layers.Conv2D(filters=128, kernel_size=(11,11), strides=(4,4), activation='relu', input_shape=(256,256,3)),\n",
        "    keras.layers.BatchNormalization(),\n",
        "    keras.layers.MaxPool2D(pool_size=(2,2)),\n",
        "    keras.layers.Conv2D(filters=256, kernel_size=(5,5), strides=(1,1), activation='relu', padding=\"same\"),\n",
        "    keras.layers.BatchNormalization(),\n",
        "    keras.layers.MaxPool2D(pool_size=(3,3)),\n",
        "    keras.layers.Conv2D(filters=256, kernel_size=(3,3), strides=(1,1), activation='relu', padding=\"same\"),\n",
        "    keras.layers.BatchNormalization(),\n",
        "    keras.layers.Conv2D(filters=256, kernel_size=(1,1), strides=(1,1), activation='relu', padding=\"same\"),\n",
        "    keras.layers.BatchNormalization(),\n",
        "    keras.layers.Conv2D(filters=256, kernel_size=(1,1), strides=(1,1), activation='relu', padding=\"same\"),\n",
        "    keras.layers.BatchNormalization(),\n",
        "    keras.layers.MaxPool2D(pool_size=(2,2)),\n",
        "    keras.layers.Flatten(),\n",
        "    keras.layers.Dense(1024,activation='relu'),\n",
        "    keras.layers.Dropout(0.5),\n",
        "    keras.layers.Dense(1024,activation='relu'),\n",
        "    keras.layers.Dropout(0.5),\n",
        "    keras.layers.Dense(2,activation='softmax')\n",
        "\n",
        "\n",
        "])"
      ]
    },
    {
      "cell_type": "code",
      "execution_count": 22,
      "metadata": {
        "colab": {
          "base_uri": "https://localhost:8080/"
        },
        "id": "caC4Jj4wA-gS",
        "outputId": "3b6a24c5-92a6-42e3-967f-f30cf5ebbd63"
      },
      "outputs": [
        {
          "output_type": "stream",
          "name": "stderr",
          "text": [
            "WARNING:absl:`lr` is deprecated in Keras optimizer, please use `learning_rate` or use the legacy optimizer, e.g.,tf.keras.optimizers.legacy.SGD.\n"
          ]
        },
        {
          "output_type": "stream",
          "name": "stdout",
          "text": [
            "Model: \"sequential\"\n",
            "_________________________________________________________________\n",
            " Layer (type)                Output Shape              Param #   \n",
            "=================================================================\n",
            " conv2d (Conv2D)             (None, 62, 62, 128)       46592     \n",
            "                                                                 \n",
            " batch_normalization (Batch  (None, 62, 62, 128)       512       \n",
            " Normalization)                                                  \n",
            "                                                                 \n",
            " max_pooling2d (MaxPooling2  (None, 31, 31, 128)       0         \n",
            " D)                                                              \n",
            "                                                                 \n",
            " conv2d_1 (Conv2D)           (None, 31, 31, 256)       819456    \n",
            "                                                                 \n",
            " batch_normalization_1 (Bat  (None, 31, 31, 256)       1024      \n",
            " chNormalization)                                                \n",
            "                                                                 \n",
            " max_pooling2d_1 (MaxPoolin  (None, 10, 10, 256)       0         \n",
            " g2D)                                                            \n",
            "                                                                 \n",
            " conv2d_2 (Conv2D)           (None, 10, 10, 256)       590080    \n",
            "                                                                 \n",
            " batch_normalization_2 (Bat  (None, 10, 10, 256)       1024      \n",
            " chNormalization)                                                \n",
            "                                                                 \n",
            " conv2d_3 (Conv2D)           (None, 10, 10, 256)       65792     \n",
            "                                                                 \n",
            " batch_normalization_3 (Bat  (None, 10, 10, 256)       1024      \n",
            " chNormalization)                                                \n",
            "                                                                 \n",
            " conv2d_4 (Conv2D)           (None, 10, 10, 256)       65792     \n",
            "                                                                 \n",
            " batch_normalization_4 (Bat  (None, 10, 10, 256)       1024      \n",
            " chNormalization)                                                \n",
            "                                                                 \n",
            " max_pooling2d_2 (MaxPoolin  (None, 5, 5, 256)         0         \n",
            " g2D)                                                            \n",
            "                                                                 \n",
            " flatten (Flatten)           (None, 6400)              0         \n",
            "                                                                 \n",
            " dense (Dense)               (None, 1024)              6554624   \n",
            "                                                                 \n",
            " dropout (Dropout)           (None, 1024)              0         \n",
            "                                                                 \n",
            " dense_1 (Dense)             (None, 1024)              1049600   \n",
            "                                                                 \n",
            " dropout_1 (Dropout)         (None, 1024)              0         \n",
            "                                                                 \n",
            " dense_2 (Dense)             (None, 2)                 2050      \n",
            "                                                                 \n",
            "=================================================================\n",
            "Total params: 9198594 (35.09 MB)\n",
            "Trainable params: 9196290 (35.08 MB)\n",
            "Non-trainable params: 2304 (9.00 KB)\n",
            "_________________________________________________________________\n"
          ]
        }
      ],
      "source": [
        "import tensorflow as tf\n",
        "model.compile(\n",
        "    loss='sparse_categorical_crossentropy',\n",
        "    optimizer=tf.optimizers.SGD(lr=0.01),\n",
        "    metrics=['accuracy']\n",
        ")\n",
        "model.summary()"
      ]
    },
    {
      "cell_type": "code",
      "execution_count": 23,
      "metadata": {
        "id": "f4Kf2MP7A-gS"
      },
      "outputs": [],
      "source": [
        "train_ds=tf.data.Dataset.from_tensor_slices((X_train,y_train))\n",
        "test_ds=tf.data.Dataset.from_tensor_slices((X_val,y_val))"
      ]
    },
    {
      "cell_type": "code",
      "execution_count": 24,
      "metadata": {
        "id": "gdcGw-PTA-gT"
      },
      "outputs": [],
      "source": [
        "def process_image(image,label):\n",
        "    image=tf.image.per_image_standardization(image)\n",
        "    image=tf.image.resize(image,(256, 256))\n",
        "\n",
        "    return image,label"
      ]
    },
    {
      "cell_type": "code",
      "execution_count": 25,
      "metadata": {
        "colab": {
          "base_uri": "https://localhost:8080/"
        },
        "id": "eJFbD3ujA-gT",
        "outputId": "4cc2e3ce-9422-4f85-cef6-c22e107b3a9e"
      },
      "outputs": [
        {
          "output_type": "stream",
          "name": "stdout",
          "text": [
            "Train size: 346\n",
            "Test size: 87\n"
          ]
        }
      ],
      "source": [
        "train_ds_size=tf.data.experimental.cardinality(train_ds).numpy()\n",
        "test_ds_size=tf.data.experimental.cardinality(test_ds).numpy()\n",
        "print('Train size:',train_ds_size)\n",
        "print('Test size:',test_ds_size)"
      ]
    },
    {
      "cell_type": "code",
      "execution_count": 26,
      "metadata": {
        "id": "BaDgKZLVA-gT"
      },
      "outputs": [],
      "source": [
        "train_ds=(train_ds\n",
        "          .map(process_image)\n",
        "          .shuffle(buffer_size=train_ds_size)\n",
        "          .batch(batch_size=32,drop_remainder=True)\n",
        "         )\n",
        "test_ds=(test_ds\n",
        "          .map(process_image)\n",
        "          .shuffle(buffer_size=test_ds_size)\n",
        "          .batch(batch_size=32,drop_remainder=True)\n",
        "         )"
      ]
    },
    {
      "cell_type": "code",
      "execution_count": 27,
      "metadata": {
        "id": "UF8V8iWbA-gU"
      },
      "outputs": [],
      "source": [
        "model.compile(loss=keras.metrics.categorical_crossentropy, optimizer=keras.optimizers.Adam(), metrics=['accuracy'])"
      ]
    },
    {
      "cell_type": "code",
      "execution_count": 28,
      "metadata": {
        "colab": {
          "base_uri": "https://localhost:8080/"
        },
        "id": "wOH5gWy3A-gU",
        "outputId": "27f8f380-db8f-4634-9923-3bf6ae9baa5f"
      },
      "outputs": [
        {
          "output_type": "stream",
          "name": "stdout",
          "text": [
            "Epoch 1/50\n",
            "10/10 [==============================] - 5s 105ms/step - loss: 0.5222 - accuracy: 0.7594 - val_loss: 1.7636 - val_accuracy: 0.5938\n",
            "Epoch 2/50\n",
            "10/10 [==============================] - 1s 66ms/step - loss: 0.6058 - accuracy: 0.7125 - val_loss: 1.2708 - val_accuracy: 0.6250\n",
            "Epoch 3/50\n",
            "10/10 [==============================] - 1s 57ms/step - loss: 0.5465 - accuracy: 0.7250 - val_loss: 1.5694 - val_accuracy: 0.6719\n",
            "Epoch 4/50\n",
            "10/10 [==============================] - 1s 57ms/step - loss: 0.5189 - accuracy: 0.7656 - val_loss: 1.7695 - val_accuracy: 0.5625\n",
            "Epoch 5/50\n",
            "10/10 [==============================] - 1s 58ms/step - loss: 0.4855 - accuracy: 0.7719 - val_loss: 1.3284 - val_accuracy: 0.5781\n",
            "Epoch 6/50\n",
            "10/10 [==============================] - 1s 52ms/step - loss: 0.4638 - accuracy: 0.7344 - val_loss: 1.1686 - val_accuracy: 0.5469\n",
            "Epoch 7/50\n",
            "10/10 [==============================] - 1s 57ms/step - loss: 0.4021 - accuracy: 0.7781 - val_loss: 0.9979 - val_accuracy: 0.5781\n",
            "Epoch 8/50\n",
            "10/10 [==============================] - 1s 56ms/step - loss: 0.3855 - accuracy: 0.7875 - val_loss: 0.7726 - val_accuracy: 0.6719\n",
            "Epoch 9/50\n",
            "10/10 [==============================] - 1s 51ms/step - loss: 0.4761 - accuracy: 0.8062 - val_loss: 1.6425 - val_accuracy: 0.6250\n",
            "Epoch 10/50\n",
            "10/10 [==============================] - 1s 58ms/step - loss: 0.4744 - accuracy: 0.7844 - val_loss: 1.2576 - val_accuracy: 0.6406\n",
            "Epoch 11/50\n",
            "10/10 [==============================] - 1s 58ms/step - loss: 0.3736 - accuracy: 0.8250 - val_loss: 1.0715 - val_accuracy: 0.6250\n",
            "Epoch 12/50\n",
            "10/10 [==============================] - 1s 55ms/step - loss: 0.4854 - accuracy: 0.8031 - val_loss: 1.0335 - val_accuracy: 0.5938\n",
            "Epoch 13/50\n",
            "10/10 [==============================] - 1s 61ms/step - loss: 0.3415 - accuracy: 0.8406 - val_loss: 1.3706 - val_accuracy: 0.5781\n",
            "Epoch 14/50\n",
            "10/10 [==============================] - 1s 65ms/step - loss: 0.3125 - accuracy: 0.8781 - val_loss: 1.1991 - val_accuracy: 0.5781\n",
            "Epoch 15/50\n",
            "10/10 [==============================] - 1s 67ms/step - loss: 0.3485 - accuracy: 0.8438 - val_loss: 2.0016 - val_accuracy: 0.5156\n",
            "Epoch 16/50\n",
            "10/10 [==============================] - 1s 71ms/step - loss: 0.3629 - accuracy: 0.8406 - val_loss: 1.9737 - val_accuracy: 0.6094\n",
            "Epoch 17/50\n",
            "10/10 [==============================] - 1s 78ms/step - loss: 0.3894 - accuracy: 0.8438 - val_loss: 0.8676 - val_accuracy: 0.6250\n",
            "Epoch 18/50\n",
            "10/10 [==============================] - 1s 86ms/step - loss: 0.3472 - accuracy: 0.8500 - val_loss: 1.3183 - val_accuracy: 0.5781\n",
            "Epoch 19/50\n",
            "10/10 [==============================] - 1s 58ms/step - loss: 0.3096 - accuracy: 0.8656 - val_loss: 0.8775 - val_accuracy: 0.6406\n",
            "Epoch 20/50\n",
            "10/10 [==============================] - 1s 56ms/step - loss: 0.2621 - accuracy: 0.8906 - val_loss: 0.9854 - val_accuracy: 0.6250\n",
            "Epoch 21/50\n",
            "10/10 [==============================] - 1s 51ms/step - loss: 0.2036 - accuracy: 0.8969 - val_loss: 1.1562 - val_accuracy: 0.6719\n",
            "Epoch 22/50\n",
            "10/10 [==============================] - 1s 52ms/step - loss: 0.2302 - accuracy: 0.9156 - val_loss: 1.5078 - val_accuracy: 0.5312\n",
            "Epoch 23/50\n",
            "10/10 [==============================] - 1s 55ms/step - loss: 0.2228 - accuracy: 0.9125 - val_loss: 1.6727 - val_accuracy: 0.5938\n",
            "Epoch 24/50\n",
            "10/10 [==============================] - 1s 58ms/step - loss: 0.2447 - accuracy: 0.8781 - val_loss: 1.1361 - val_accuracy: 0.6875\n",
            "Epoch 25/50\n",
            "10/10 [==============================] - 1s 52ms/step - loss: 0.2216 - accuracy: 0.9031 - val_loss: 1.1038 - val_accuracy: 0.4844\n",
            "Epoch 26/50\n",
            "10/10 [==============================] - 1s 54ms/step - loss: 0.1681 - accuracy: 0.9187 - val_loss: 1.3099 - val_accuracy: 0.5469\n",
            "Epoch 27/50\n",
            "10/10 [==============================] - 1s 82ms/step - loss: 0.1725 - accuracy: 0.9281 - val_loss: 1.2062 - val_accuracy: 0.5938\n",
            "Epoch 28/50\n",
            "10/10 [==============================] - 1s 66ms/step - loss: 0.2509 - accuracy: 0.8781 - val_loss: 1.8160 - val_accuracy: 0.6406\n",
            "Epoch 29/50\n",
            "10/10 [==============================] - 1s 56ms/step - loss: 0.2564 - accuracy: 0.8969 - val_loss: 1.2504 - val_accuracy: 0.6094\n",
            "Epoch 30/50\n",
            "10/10 [==============================] - 1s 58ms/step - loss: 0.2849 - accuracy: 0.9219 - val_loss: 2.3169 - val_accuracy: 0.5469\n",
            "Epoch 31/50\n",
            "10/10 [==============================] - 1s 75ms/step - loss: 0.2391 - accuracy: 0.9312 - val_loss: 2.6480 - val_accuracy: 0.6406\n",
            "Epoch 32/50\n",
            "10/10 [==============================] - 1s 54ms/step - loss: 0.1913 - accuracy: 0.9406 - val_loss: 2.4806 - val_accuracy: 0.5469\n",
            "Epoch 33/50\n",
            "10/10 [==============================] - 1s 50ms/step - loss: 0.1641 - accuracy: 0.9438 - val_loss: 1.7388 - val_accuracy: 0.6875\n",
            "Epoch 34/50\n",
            "10/10 [==============================] - 1s 52ms/step - loss: 0.1203 - accuracy: 0.9531 - val_loss: 2.4207 - val_accuracy: 0.5469\n",
            "Epoch 35/50\n",
            "10/10 [==============================] - 1s 57ms/step - loss: 0.1991 - accuracy: 0.9438 - val_loss: 3.1563 - val_accuracy: 0.5625\n",
            "Epoch 36/50\n",
            "10/10 [==============================] - 1s 57ms/step - loss: 0.2914 - accuracy: 0.9187 - val_loss: 3.3285 - val_accuracy: 0.5625\n",
            "Epoch 37/50\n",
            "10/10 [==============================] - 1s 57ms/step - loss: 0.1665 - accuracy: 0.9469 - val_loss: 2.8098 - val_accuracy: 0.6406\n",
            "Epoch 38/50\n",
            "10/10 [==============================] - 1s 53ms/step - loss: 0.1995 - accuracy: 0.9187 - val_loss: 2.6447 - val_accuracy: 0.5469\n",
            "Epoch 39/50\n",
            "10/10 [==============================] - 1s 59ms/step - loss: 0.1096 - accuracy: 0.9500 - val_loss: 2.1283 - val_accuracy: 0.5312\n",
            "Epoch 40/50\n",
            "10/10 [==============================] - 1s 56ms/step - loss: 0.0977 - accuracy: 0.9563 - val_loss: 2.1848 - val_accuracy: 0.5625\n",
            "Epoch 41/50\n",
            "10/10 [==============================] - 1s 60ms/step - loss: 0.0492 - accuracy: 0.9750 - val_loss: 2.4342 - val_accuracy: 0.5938\n",
            "Epoch 42/50\n",
            "10/10 [==============================] - 1s 69ms/step - loss: 0.0418 - accuracy: 0.9812 - val_loss: 2.5174 - val_accuracy: 0.6094\n",
            "Epoch 43/50\n",
            "10/10 [==============================] - 1s 63ms/step - loss: 0.0174 - accuracy: 0.9969 - val_loss: 3.0917 - val_accuracy: 0.6562\n",
            "Epoch 44/50\n",
            "10/10 [==============================] - 1s 58ms/step - loss: 0.0678 - accuracy: 0.9844 - val_loss: 4.8049 - val_accuracy: 0.5312\n",
            "Epoch 45/50\n",
            "10/10 [==============================] - 1s 51ms/step - loss: 0.1742 - accuracy: 0.9625 - val_loss: 3.0946 - val_accuracy: 0.5938\n",
            "Epoch 46/50\n",
            "10/10 [==============================] - 1s 58ms/step - loss: 0.1111 - accuracy: 0.9688 - val_loss: 3.2567 - val_accuracy: 0.5156\n",
            "Epoch 47/50\n",
            "10/10 [==============================] - 1s 54ms/step - loss: 0.1383 - accuracy: 0.9594 - val_loss: 1.9790 - val_accuracy: 0.6094\n",
            "Epoch 48/50\n",
            "10/10 [==============================] - 1s 53ms/step - loss: 0.0895 - accuracy: 0.9656 - val_loss: 1.9400 - val_accuracy: 0.5938\n",
            "Epoch 49/50\n",
            "10/10 [==============================] - 1s 53ms/step - loss: 0.1072 - accuracy: 0.9625 - val_loss: 1.4698 - val_accuracy: 0.6719\n",
            "Epoch 50/50\n",
            "10/10 [==============================] - 1s 52ms/step - loss: 0.0863 - accuracy: 0.9625 - val_loss: 1.6525 - val_accuracy: 0.5156\n"
          ]
        }
      ],
      "source": [
        "history=model.fit(\n",
        "    train_ds,\n",
        "    epochs=50,\n",
        "    validation_data=test_ds,\n",
        "    validation_freq=1\n",
        ")"
      ]
    },
    {
      "cell_type": "code",
      "execution_count": 29,
      "metadata": {
        "id": "dBhA6iDhA-gU",
        "outputId": "b591a4b6-81a0-40ba-fa7f-dd184c9ed02f",
        "colab": {
          "base_uri": "https://localhost:8080/"
        }
      },
      "outputs": [
        {
          "output_type": "execute_result",
          "data": {
            "text/plain": [
              "dict_keys(['loss', 'accuracy', 'val_loss', 'val_accuracy'])"
            ]
          },
          "metadata": {},
          "execution_count": 29
        }
      ],
      "source": [
        "model.history.history.keys()"
      ]
    },
    {
      "cell_type": "code",
      "execution_count": 30,
      "metadata": {
        "id": "9lSyjuzyA-gV",
        "outputId": "a333ee37-f23d-4b90-8915-05c537f4bf83",
        "colab": {
          "base_uri": "https://localhost:8080/",
          "height": 850
        }
      },
      "outputs": [
        {
          "output_type": "execute_result",
          "data": {
            "text/plain": [
              "<matplotlib.legend.Legend at 0x7d173043e650>"
            ]
          },
          "metadata": {},
          "execution_count": 30
        },
        {
          "output_type": "display_data",
          "data": {
            "text/plain": [
              "<Figure size 1000x1000 with 2 Axes>"
            ],
            "image/png": "[encoded data removed]"
          },
          "metadata": {}
        }
      ],
      "source": [
        "import matplotlib.pyplot as plt\n",
        "f,ax=plt.subplots(2,1,figsize=(10,10))\n",
        "\n",
        "#Assigning the first subplot to graph training loss and validation loss\n",
        "ax[0].plot(model.history.history['loss'],color='b',label='Training Loss')\n",
        "ax[0].plot(model.history.history['val_loss'],color='r',label='Validation Loss')\n",
        "\n",
        "#Plotting the training accuracy and validation accuracy\n",
        "ax[1].plot(model.history.history['accuracy'],color='b',label='Training  Accuracy')\n",
        "ax[1].plot(model.history.history['val_accuracy'],color='r',label='Validation Accuracy')\n",
        "\n",
        "plt.legend()"
      ]
    },
    {
      "cell_type": "code",
      "execution_count": 31,
      "metadata": {
        "id": "-kDsCe8qA-gV",
        "outputId": "0660b223-873f-4c14-b595-32253a7519f5",
        "colab": {
          "base_uri": "https://localhost:8080/"
        }
      },
      "outputs": [
        {
          "output_type": "stream",
          "name": "stdout",
          "text": [
            "Accuracy Score =  0.6875\n"
          ]
        }
      ],
      "source": [
        "print('Accuracy Score = ',np.max(history.history['val_accuracy']))"
      ]
    },
    {
      "cell_type": "code",
      "execution_count": 21,
      "metadata": {
        "id": "lejHEqG6A-gV"
      },
      "outputs": [],
      "source": []
    }
  ],
  "metadata": {
    "colab": {
      "provenance": [],
      "gpuType": "T4"
    },
    "kernelspec": {
      "display_name": "Python 3",
      "name": "python3"
    },
    "language_info": {
      "codemirror_mode": {
        "name": "ipython",
        "version": 3
      },
      "file_extension": ".py",
      "mimetype": "text/x-python",
      "name": "python",
      "nbconvert_exporter": "python",
      "pygments_lexer": "ipython3",
      "version": "3.8.5"
    },
    "accelerator": "GPU"
  },
  "nbformat": 4,
  "nbformat_minor": 0
}